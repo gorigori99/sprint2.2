{
 "cells": [
  {
   "cell_type": "markdown",
   "metadata": {
    "id": "UCjlyTyyJm9R"
   },
   "source": [
    "\n",
    "\n",
    "Todavía desempeñándote como miembro del equipo analítico, en el primer proyecto hemos sentado las bases para la segunda fase. ¡Hemos llegado! Ahora aplicarás técnicas avanzadas para extraer datos significativos, atendiendo a las crecientes necesidades del cliente."
   ]
  },
  {
   "cell_type": "markdown",
   "metadata": {
    "id": "4ZzATQthJm9Y"
   },
   "source": [
    "Como sabes, las empresas recopilan y almacenan datos de una forma particular. Store 1 quiere almacenar toda la información de sus clientes en una tabla.\n",
    "\n",
    "\n",
    "| user_id | user_name | user_age | purchase_category | spending_per_category |\n",
    "| --- | --- | --- | --- | --- |\n",
    "| '32415' | 'mike', 'reed' | 32 | 'electronics', 'sport', 'books' | 894, 213, 173 |\n",
    "| '31980' | 'kate', 'morgan' | 24 | 'clothes', 'shoes' | 439, 390 |\n",
    "\n",
    "En términos técnicos, una tabla es simplemente una lista anidada que contiene una sublista para cada usuario o usuaria.\n",
    "\n",
    "Store 1 ha creado una tabla de este tipo para sus usuarios. Está almacenada en la variable \"users\". Cada sublista contiene el ID del usuario, nombre y apellido, edad, categorías favoritas y el importe gastado en cada categoría."
   ]
  },
  {
   "cell_type": "markdown",
   "metadata": {
    "id": "EMQlsEYlxGET"
   },
   "source": [
    "-\t**user_id:** el identificador único para cada usuario.\n",
    "-\t**user_name:** el nombre de usuario.\n",
    "-\t**user_age:** la edad del usuario.\n",
    "-\t**fav_categories:** las categorías de artículos comprados por el usuario, como 'ELECTRONICS', 'SPORT', 'BOOKS', etc.\n",
    "-\t**total_spendings:** la lista de enteros que indican la cantidad gastada en cada una de sus categorías favoritas.\n"
   ]
  },
  {
   "cell_type": "code",
   "execution_count": null,
   "metadata": {
    "id": "LfBCH4crxLOt",
    "trusted": true
   },
   "outputs": [],
   "source": [
    "users = [\n",
    "    ['32415', ' mike_reed ', 32.0, ['ELECTRONICS', 'SPORT', 'BOOKS'], [894, 213, 173]],\n",
    "    ['31980', 'kate morgan', 24.0, ['CLOTHES', 'BOOKS'], [439, 390]],\n",
    "    ['32156', ' john doe ', 37.0, ['ELECTRONICS', 'HOME', 'FOOD'], [459, 120, 99]],\n",
    "    ['32761', 'SAMANTHA SMITH', 29.0, ['CLOTHES', 'ELECTRONICS', 'BEAUTY'], [299, 679, 85]],\n",
    "    ['32984', 'David White', 41.0, ['BOOKS', 'HOME', 'SPORT'], [234, 329, 243]],\n",
    "    ['33001', 'emily brown', 26.0, ['BEAUTY', 'HOME', 'FOOD'], [213, 659, 79]],\n",
    "    ['33767', ' Maria Garcia', 33.0, ['CLOTHES', 'FOOD', 'BEAUTY'], [499, 189, 63]],\n",
    "    ['33912', 'JOSE MARTINEZ', 22.0, ['SPORT', 'ELECTRONICS', 'HOME'], [259, 549, 109]],\n",
    "    ['34009', 'lisa wilson ', 35.0, ['HOME', 'BOOKS', 'CLOTHES'], [329, 189, 329]],\n",
    "    ['34278', 'James Lee', 28.0, ['BEAUTY', 'CLOTHES', 'ELECTRONICS'], [189, 299, 579]],\n",
    "]\n"
   ]
  },
  {
   "cell_type": "markdown",
   "metadata": {
    "id": "vgnoxECvlWvr"
   },
   "source": [
    "# Paso 1\n",
    "\n",
    "En la última tarea de la primera parte de este proyecto escribiste código para:\n",
    "\n",
    "1. Eliminar todos los espacios iniciales y finales de los nombres, así como cualquier guion bajo.\n",
    "2. Convertir todas las edades en números enteros.\n",
    "3. Separar todos los nombres y apellidos en una sublista.\n",
    "\n",
    "Hagámoslo ahora una función para que podamos usarla para fijar a cualquier cliente. Nombra a tu función `clean_user`. Debe recibir una lista con toda la información del cliente (user_info), así como dos enteros. Uno de ellos señala el índice del nombre del cliente y el otro es el índice de la edad del cliente en la lista. Debe devolver la lista limpia después de aplicar todos los cambios anteriores. Pruébala llamándola, pasándole la lista `test_user[]` y luego muéstrala en pantalla.\n"
   ]
  },
  {
   "cell_type": "code",
   "execution_count": 2,
   "metadata": {
    "colab": {
     "base_uri": "https://localhost:8080/"
    },
    "id": "RN6LIlHelWvr",
    "outputId": "632ceadd-0f9a-46cf-91c1-b4bea53623d0",
    "trusted": true
   },
   "outputs": [
    {
     "name": "stdout",
     "output_type": "stream",
     "text": [
      "['32415', ['mike', 'reed'], 32, ['ELECTRONICS', 'SPORT', 'BOOKS'], [894, 213, 173]]\n"
     ]
    }
   ],
   "source": [
    "# define tu función aquí\n",
    "\n",
    "\n",
    "    \n",
    "    \n",
    "def clean_user(user_info, user_name_index, user_age_index):\n",
    "    # Paso 1: elimina del nombre espacios iniciales y finales, así como guiones\n",
    "    user_name_1 = user_info[user_name_index].strip().lower().replace('_',' ')\n",
    "    \n",
    "    # Paso 2: convierte la edad en entero\n",
    "    user_age_1 = int(user_info[user_age_index])\n",
    "    \n",
    "# Paso 3: separa el nombre y el apellido en una sublista\n",
    "    user_name_1 = user_name_1.split()\n",
    "\n",
    "    # Prepara la lista con la información completa del usuario\n",
    "    # Reemplaza el nombre y la edad originales con los datos limpios\n",
    "    user_info[user_name_index] = user_name_1\n",
    "    user_info[user_age_index] = user_age_1\n",
    "\n",
    "    return user_info\n",
    "\n",
    "# Prueba la función\n",
    "test_user = ['32415', ' mike_reed ', 32.0, ['ELECTRONICS', 'SPORT', 'BOOKS'], [894, 213, 173]]\n",
    "name_index = 1\n",
    "age_index = 2\n",
    "\n",
    "print(clean_user(test_user, name_index, age_index))"
   ]
  },
  {
   "cell_type": "code",
   "execution_count": null,
   "metadata": {
    "scrolled": true,
    "trusted": true
   },
   "outputs": [],
   "source": []
  },
  {
   "cell_type": "code",
   "execution_count": null,
   "metadata": {
    "trusted": true
   },
   "outputs": [],
   "source": []
  },
  {
   "cell_type": "markdown",
   "metadata": {
    "id": "E8u2OO1YlWvr"
   },
   "source": [
    "********Pista********\n",
    "\n",
    "Para implementar la función `clean_user`, efectúa los siguientes pasos:\n",
    "\n",
    "1. **Recortar y reemplazar:** utiliza `strip()` para eliminar espacios iniciales y finales del nombre del usuario y `replace('_', ' ')` para eliminar guiones bajos con espacios.\n",
    "2. **Convertir la edad:** convierte la edad en entero utilizando la función `int()`.\n",
    "3. **Separar el nombre:** utiliza el método `split()` para separar el nombre y el apellido, creando una sublista.\n",
    "\n",
    "Asegúrate de modificar la lista `user_info` que aparece actualizando el nombre y la edad con los datos limpios antes de devolver la lista. Prueba tu función con un usuario de ejemplo para verificar que funciona correctamente.\n"
   ]
  },
  {
   "cell_type": "markdown",
   "metadata": {
    "id": "zF6ADQNLJm9W"
   },
   "source": [
    "# Paso 2\n",
    "\n",
    "Observa que todas las categorías favoritas están almacenadas en mayúsculas. Llena una nueva lista llamada `fav_categories_low` con las mismas categorías, pero en minúsculas, iterando sobre los valores en la lista `fav_categories`, modificándolos y luego añade los nuevos valores a la lista `fav_categories_low`. Como siempre, muestra el resultado final.\n"
   ]
  },
  {
   "cell_type": "code",
   "execution_count": 3,
   "metadata": {
    "colab": {
     "base_uri": "https://localhost:8080/"
    },
    "id": "Ltoq2LXjJm9W",
    "outputId": "5a05c845-8d3c-4890-8070-38ccb63dd5b4",
    "trusted": true
   },
   "outputs": [
    {
     "name": "stdout",
     "output_type": "stream",
     "text": [
      "['electronics', 'sport', 'books']\n"
     ]
    }
   ],
   "source": [
    "fav_categories = ['ELECTRONICS', 'SPORT', 'BOOKS']\n",
    "fav_categories_low = []\n",
    "#por elemento en lista\n",
    "for element in fav_categories:\n",
    "    fav_categories_low.append(element.lower())\n",
    "\n",
    "print(fav_categories_low)"
   ]
  },
  {
   "cell_type": "markdown",
   "metadata": {
    "id": "w0fevXJTJm9X"
   },
   "source": [
    "********Pista********\n",
    "\n",
    "Crea un bucle `for` que itere sobre la lista `fav_categories`. Utiliza el método `lower()` para transformar cada categoría a minúsculas. Luego, utiliza el método `append()` para agregar los valores actualizados a la lista `fav_categories_low`."
   ]
  },
  {
   "cell_type": "markdown",
   "metadata": {
    "id": "xhKqJwaqdrRu"
   },
   "source": [
    "# Paso 3\n",
    "\n",
    "Ahora hagamos lo mismo, pero para cada uno de los usuarios de la empresa. Llena una lista nueva llamada `users_categories_low` con los mismos usuarios, pero con sus categorías en minúsculas, iterando sobre los valores en la lista `users`, luego itera sobre los valores en `user_categories`, modificándolos, y después agrega los nuevos valores de usuarios a la lista `users_categories_low`. Como siempre, muestra el resultado final.\n"
   ]
  },
  {
   "cell_type": "code",
   "execution_count": 4,
   "metadata": {
    "colab": {
     "base_uri": "https://localhost:8080/"
    },
    "id": "uBfnDzZfdrR1",
    "outputId": "6e0b3a3b-c94e-4402-a9d1-dc88fe07256e",
    "trusted": true
   },
   "outputs": [
    {
     "name": "stdout",
     "output_type": "stream",
     "text": [
      "['32415', ' mike_reed ', 32.0, ['electronics', 'sport', 'books'], [894, 213, 173]]\n",
      "['31980', 'kate morgan', 24.0, ['clothes', 'books'], [439, 390]]\n",
      "['32156', ' john doe ', 37.0, ['electronics', 'home', 'food'], [459, 120, 99]]\n",
      "['32761', 'SAMANTHA SMITH', 29.0, ['clothes', 'electronics', 'beauty'], [299, 679, 85]]\n",
      "['32984', 'David White', 41.0, ['books', 'home', 'sport'], [234, 329, 243]]\n",
      "['33001', 'emily brown', 26.0, ['beauty', 'home', 'food'], [213, 659, 79]]\n",
      "['33767', ' Maria Garcia', 33.0, ['clothes', 'food', 'beauty'], [499, 189, 63]]\n",
      "['33912', 'JOSE MARTINEZ', 22.0, ['sport', 'electronics', 'home'], [259, 549, 109]]\n",
      "['34009', 'lisa wilson ', 35.0, ['home', 'books', 'clothes'], [329, 189, 329]]\n",
      "['34278', 'James Lee', 28.0, ['beauty', 'clothes', 'electronics'], [189, 299, 579]]\n"
     ]
    }
   ],
   "source": [
    "users = [\n",
    "    ['32415', ' mike_reed ', 32.0, ['ELECTRONICS', 'SPORT', 'BOOKS'], [894, 213, 173]],\n",
    "    ['31980', 'kate morgan', 24.0, ['CLOTHES', 'BOOKS'], [439, 390]],\n",
    "    ['32156', ' john doe ', 37.0, ['ELECTRONICS', 'HOME', 'FOOD'], [459, 120, 99]],\n",
    "    ['32761', 'SAMANTHA SMITH', 29.0, ['CLOTHES', 'ELECTRONICS', 'BEAUTY'], [299, 679, 85]],\n",
    "    ['32984', 'David White', 41.0, ['BOOKS', 'HOME', 'SPORT'], [234, 329, 243]],\n",
    "    ['33001', 'emily brown', 26.0, ['BEAUTY', 'HOME', 'FOOD'], [213, 659, 79]],\n",
    "    ['33767', ' Maria Garcia', 33.0, ['CLOTHES', 'FOOD', 'BEAUTY'], [499, 189, 63]],\n",
    "    ['33912', 'JOSE MARTINEZ', 22.0, ['SPORT', 'ELECTRONICS', 'HOME'], [259, 549, 109]],\n",
    "    ['34009', 'lisa wilson ', 35.0, ['HOME', 'BOOKS', 'CLOTHES'], [329, 189, 329]],\n",
    "    ['34278', 'James Lee', 28.0, ['BEAUTY', 'CLOTHES', 'ELECTRONICS'], [189, 299, 579]],\n",
    "]\n",
    "\n",
    "users_categories_low = []\n",
    "for user in users:\n",
    "    categories_low = []\n",
    "    for category in user[3]:\n",
    "        categories_low.append(category.lower())\n",
    "        \n",
    "    user[3] = categories_low\n",
    "    users_categories_low.append(user)\n",
    "\n",
    "for users in users_categories_low:\n",
    "    print(users)\n",
    "    \n",
    "\n",
    "\n"
   ]
  },
  {
   "cell_type": "markdown",
   "metadata": {},
   "source": [
    "\n",
    "<div class=\"alert alert-block alert-danger\">\n",
    "\n",
    "<b>Comentario del revisor #3</b> <a class=\"tocSkip\"></a>\n",
    "\n",
    "Recorda que en este caso queremos toda la lista con todos sus elementos y las minusculas de las categorias cambiadas, aqui solo estas mostrando un elemento.</div>\n",
    "\n",
    "<div class=\"alert alert-block alert-success\">\n",
    "<b>Comentario del revisor #3</b> <a class=\"tocSkip\"></a>\n",
    "\n",
    "Corregido, perfecto.\n",
    "\n",
    "</div>"
   ]
  },
  {
   "cell_type": "markdown",
   "metadata": {
    "id": "lom04QHKdrR1"
   },
   "source": [
    "********Pista********\n",
    "\n",
    "Crea un bucle `for` que itere sobre la lista `users`. Luego crea otro bucle `for` que itere sobre las categorías de usuarios para acceder al usuario y modificarlo. Utiliza el método `lower()` para transformar cada categoría a minúsculas. Luego, modifica al usuario eliminando la lista de categorías anteriores con `pop()` y con `insert()` inserta la nueva en su lugar. A continuación utiliza el método `append()` para agregar a los usuarios actualizados a la lista `users_categories_low`."
   ]
  },
  {
   "cell_type": "markdown",
   "metadata": {
    "id": "uisdgp0or8rS"
   },
   "source": [
    "# Paso 4\n",
    "\n",
    "Ahora, completemos el código de nuestra función `clean_user` para limpiar la categoría:\n",
    "1. Añade otro parámetro con el índice de categorías.\n",
    "2. Pon todos los nombres en minúsculas antes de aplicar \"strip\" y \"replace\".\n",
    "\n",
    "Después, crea un bucle y aplica tu función a toda la lista de usuarios, agregando tus resultados a la lista `users_clean`. Después muéstralo"
   ]
  },
  {
   "cell_type": "code",
   "execution_count": 4,
   "metadata": {
    "colab": {
     "base_uri": "https://localhost:8080/"
    },
    "id": "ioGD_Cs5r8ra",
    "outputId": "fddb59df-a686-4270-9a01-1803d53a0da9",
    "trusted": true
   },
   "outputs": [
    {
     "name": "stdout",
     "output_type": "stream",
     "text": [
      "['32415', ['mike', 'reed'], 32, ['electronics', 'sport', 'books'], [894, 213, 173]]\n",
      "['31980', ['kate', 'morgan'], 24, ['clothes', 'books'], [439, 390]]\n",
      "['32156', ['john', 'doe'], 37, ['electronics', 'home', 'food'], [459, 120, 99]]\n",
      "['32761', ['samantha', 'smith'], 29, ['clothes', 'electronics', 'beauty'], [299, 679, 85]]\n",
      "['32984', ['david', 'white'], 41, ['books', 'home', 'sport'], [234, 329, 243]]\n",
      "['33001', ['emily', 'brown'], 26, ['beauty', 'home', 'food'], [213, 659, 79]]\n",
      "['33767', ['maria', 'garcia'], 33, ['clothes', 'food', 'beauty'], [499, 189, 63]]\n",
      "['33912', ['jose', 'martinez'], 22, ['sport', 'electronics', 'home'], [259, 549, 109]]\n",
      "['34009', ['lisa', 'wilson'], 35, ['home', 'books', 'clothes'], [329, 189, 329]]\n",
      "['34278', ['james', 'lee'], 28, ['beauty', 'clothes', 'electronics'], [189, 299, 579]]\n"
     ]
    }
   ],
   "source": [
    "def clean_user(user_info, name_index, age_index, cat_index):\n",
    "    # Paso 1: pon todo en minúsculas y elimina del nombre espacios iniciales y finales, así como guiones\n",
    "    user_name_1 = user_info[name_index].strip().replace('_',' ')\n",
    "\n",
    "  # Paso 2: convierte la edad en entero\n",
    "    user_age_1 = int(user_info[age_index])\n",
    "\n",
    "  # Paso 3: separa el nombre y el apellido en una sublista\n",
    "    user_name_1 = user_name_1.lower().split()\n",
    "\n",
    "  # Paso 4: poner las categorias en minusculas\n",
    "    categories = user_info[cat_index]\n",
    "    lista = [] \n",
    "    for category in categories:\n",
    "        lista.append(category.lower())\n",
    "        \n",
    "        \n",
    "        \n",
    "        # Prepara la lista con la información completa del usuario\n",
    "  # Reemplaza el nombre y la edad originales con los datos limpios\n",
    "    user_info[name_index] = user_name_1\n",
    "    user_info[age_index] = user_age_1\n",
    "    user_info[cat_index] = lista\n",
    "\n",
    "    return user_info\n",
    "\n",
    "\n",
    "users = [\n",
    "    ['32415', ' mike_reed ', 32.0, ['ELECTRONICS', 'SPORT', 'BOOKS'], [894, 213, 173]],\n",
    "    ['31980', 'kate morgan', 24.0, ['CLOTHES', 'BOOKS'], [439, 390]],\n",
    "    ['32156', ' john doe ', 37.0, ['ELECTRONICS', 'HOME', 'FOOD'], [459, 120, 99]],\n",
    "    ['32761', 'SAMANTHA SMITH', 29.0, ['CLOTHES', 'ELECTRONICS', 'BEAUTY'], [299, 679, 85]],\n",
    "    ['32984', 'David White', 41.0, ['BOOKS', 'HOME', 'SPORT'], [234, 329, 243]],\n",
    "    ['33001', 'emily brown', 26.0, ['BEAUTY', 'HOME', 'FOOD'], [213, 659, 79]],\n",
    "    ['33767', ' Maria Garcia', 33.0, ['CLOTHES', 'FOOD', 'BEAUTY'], [499, 189, 63]],\n",
    "    ['33912', 'JOSE MARTINEZ', 22.0, ['SPORT', 'ELECTRONICS', 'HOME'], [259, 549, 109]],\n",
    "    ['34009', 'lisa wilson ', 35.0, ['HOME', 'BOOKS', 'CLOTHES'], [329, 189, 329]],\n",
    "    ['34278', 'James Lee', 28.0, ['BEAUTY', 'CLOTHES', 'ELECTRONICS'], [189, 299, 579]],\n",
    "]\n",
    "\n",
    "name_index = 1\n",
    "age_index = 2\n",
    "cat_index = 3\n",
    "users_cleaned = []\n",
    "\n",
    "for user in users:\n",
    "    user_cleaned = clean_user(user, name_index, age_index, cat_index)\n",
    "    users_cleaned.append(user_cleaned)\n",
    "    print(user_cleaned)\n",
    "\n"
   ]
  },
  {
   "cell_type": "markdown",
   "metadata": {},
   "source": [
    "\n",
    "<div class=\"alert alert-block alert-success\">\n",
    "\n",
    "<b>Comentario del revisor #3</b> <a class=\"tocSkip\"></a>\n",
    "\n",
    "Excelente.</div>"
   ]
  },
  {
   "cell_type": "code",
   "execution_count": null,
   "metadata": {
    "trusted": true
   },
   "outputs": [],
   "source": []
  },
  {
   "cell_type": "markdown",
   "metadata": {
    "id": "h5SOurz6r8ra"
   },
   "source": [
    "********Pista********\n",
    "\n",
    "Efectúa los siguientes pasos para implementar la función `clean_user`:\n",
    "\n",
    "1. **Copia y adapta:** copia el código de tu función anterior `clean_user`.\n",
    "\n",
    "2. **Pon el nombre en minúsculas:** antes de aplicar `split()` y `replace()`, aplica `lower()` al nombre del cliente.\n",
    "\n",
    "3. **Procesa las categorías:** agrega una sección nueva para gestionar las categorías. Pon cada categoría de la lista en minúsculas y almacénalas en una nueva lista.\n",
    "\n",
    "4. **Ejecuta tu código:** asegúrate de que la función `clean_user` actualice la lista `user_info` con el nombre, edad y categorías limpias. Haz un bucle en la lista `users` y llama a la función `clean_user`, pasando el usuario, `name_index`, `age_index` y `cat_index` para especificar los índices correctos para el nombre, la edad y las categorías, respectivamente.\n",
    "\n",
    "5. Guarda cada nuevo usuario limpio en la lista nueva `users_cleaned`.\n",
    "\n",
    "Muestra en pantalla la lista `users_cleaned` para asegurarte de que tu código realiza las respectivas transformaciones.\n"
   ]
  },
  {
   "cell_type": "markdown",
   "metadata": {
    "id": "eONfrv9nJm9Y"
   },
   "source": [
    "# Paso 5\n",
    "\n",
    "La empresa desea conocer sus ingresos totales y te pide que proporciones este valor.\n",
    "Para calcular los ingresos de la empresa, sigue estos pasos:\n",
    "\n",
    "1. Utiliza `for` para iterar sobre la lista `users`.\n",
    "2. Extrae la lista de gastos de cada usuario y suma los valores.\n",
    "3. Actualiza el valor de los ingresos con el total de cada usuario.\n",
    "\n",
    "Así obtendrás los ingresos totales de la empresa que mostrarás en la pantalla al final.\n"
   ]
  },
  {
   "cell_type": "code",
   "execution_count": 8,
   "metadata": {
    "colab": {
     "base_uri": "https://localhost:8080/"
    },
    "id": "ijzboKgoJm9Y",
    "outputId": "9aad5fe8-55ec-475b-9b40-afc590ae05e6",
    "scrolled": false,
    "trusted": true
   },
   "outputs": [
    {
     "name": "stdout",
     "output_type": "stream",
     "text": [
      "9189\n"
     ]
    }
   ],
   "source": [
    "users = [['32415', ['mike', 'reed'], 32, ['electronics', 'sport', 'books'], [894, 213, 173]],\n",
    "         ['31980', ['kate', 'morgan'], 24, ['clothes', 'books'], [439, 390]],\n",
    "         ['32156', ['john', 'doe'], 37, ['electronics', 'home', 'food'], [459, 120, 99]],\n",
    "         ['32761', ['samantha', 'smith'], 29, ['clothes', 'electronics', 'beauty'], [299, 679, 85]],\n",
    "         ['32984', ['david', 'white'], 41, ['books', 'home', 'sport'], [234, 329, 243]],\n",
    "         ['33001', ['emily', 'brown'], 26, ['beauty', 'home', 'food'], [213, 659, 79]],\n",
    "         ['33767', ['maria', 'garcia'], 33, ['clothes', 'food', 'beauty'], [499, 189, 63]],\n",
    "         ['33912', ['jose', 'martinez'], 22, ['sport', 'electronics', 'home'], [259, 549, 109]],\n",
    "         ['34009', ['lisa', 'wilson'], 35, ['home', 'books', 'clothes'], [329, 189, 329]],\n",
    "         ['34278', ['james', 'lee'], 28, ['beauty', 'clothes', 'electronics'], [189, 299, 579]]]\n",
    "\n",
    "revenue = 0\n",
    "\n",
    "for user in users:\n",
    "    spending_list = user[4]\n",
    "    total_spendings = sum(spending_list)\n",
    "    revenue += total_spendings\n",
    "print(revenue)\n",
    "\n"
   ]
  },
  {
   "cell_type": "markdown",
   "metadata": {
    "id": "s_1nxg0nJm9Y"
   },
   "source": [
    "********Pista********\n",
    "\n",
    "Para extraer la lista de gastos realizados por un usuario, utiliza la indexación y asígnala a la variable `spendings_list`. Luego, utiliza la función integrada para calcular la suma de `spending_list`. Por último, actualiza el valor de `revenue` añadiéndole  `total_spendings` mediante la asignación aumentada."
   ]
  },
  {
   "cell_type": "markdown",
   "metadata": {
    "id": "R1wNYes8Jm9X"
   },
   "source": [
    "# Paso 6\n",
    "\n",
    "La empresa quiere ofrecer descuentos a sus clientes leales. Los clientes que realizan compras por un importe total mayor a $1500 se consideran leales y recibirán un descuento.\n",
    "\n",
    "Nuestro objetivo es crear un bucle `while` que compruebe el importe total gastado y se detenga al alcanzarlo. Para simular nuevas compras, la variable `new_purchase` genera un número entre 30 y 80 en cada iteración del bucle. Esto representa la cantidad de dinero gastada en una nueva compra y es lo que debes agregar al total.\n",
    "\n",
    "Una vez que se alcance el importe objetivo y se termine el bucle `while`, se mostrará la cantidad final.\n"
   ]
  },
  {
   "cell_type": "code",
   "execution_count": 9,
   "metadata": {
    "colab": {
     "base_uri": "https://localhost:8080/"
    },
    "id": "eVBfoyx7Jm9X",
    "outputId": "27091cb5-f5f4-4b74-f92a-c2d822354a40",
    "trusted": true
   },
   "outputs": [
    {
     "name": "stdout",
     "output_type": "stream",
     "text": [
      "1509\n"
     ]
    }
   ],
   "source": [
    "from random import randint\n",
    "\n",
    "total_amount_spent = 1280\n",
    "target_amount = 1500\n",
    "\n",
    "while total_amount_spent < target_amount:\n",
    "    \n",
    "    new_purchase = randint(30, 80) # generamos un número aleatorio de 30 a 80\n",
    "    total_amount_spent += new_purchase# escribe tu código aquí\n",
    "\n",
    "print(total_amount_spent)"
   ]
  },
  {
   "cell_type": "markdown",
   "metadata": {
    "id": "u7GIkFFnJm9Y"
   },
   "source": [
    "********Pista********\n",
    "\n",
    "En el bucle `while`, debes comparar `total_amount_spent` (importe total gastado) con `target_amount` (importe objetivo). Durante cada iteración del bucle, actualiza la variable `total_amount_spent` agregándole el valor `new_purchase`."
   ]
  },
  {
   "cell_type": "markdown",
   "metadata": {
    "id": "IoyNnalCJm9Z"
   },
   "source": [
    "# Paso 7\n",
    "\n",
    "Recorre la lista de usuarios que te hemos proporcionado y muestra los nombres de los clientes menores de 30 años.\n"
   ]
  },
  {
   "cell_type": "code",
   "execution_count": 10,
   "metadata": {
    "colab": {
     "base_uri": "https://localhost:8080/"
    },
    "id": "pn5WkcpJJm9Z",
    "outputId": "e95fe449-868e-4a89-f9e6-6e3c7b62bd80",
    "trusted": true
   },
   "outputs": [
    {
     "name": "stdout",
     "output_type": "stream",
     "text": [
      "['kate', 'morgan']\n",
      "['samantha', 'smith']\n",
      "['emily', 'brown']\n",
      "['jose', 'martinez']\n",
      "['james', 'lee']\n"
     ]
    }
   ],
   "source": [
    "users = [['32415', ['mike', 'reed'], 32, ['electronics', 'sport', 'books'], [894, 213, 173]],\n",
    "         ['31980', ['kate', 'morgan'], 24, ['clothes', 'books'], [439, 390]],\n",
    "         ['32156', ['john', 'doe'], 37, ['electronics', 'home', 'food'], [459, 120, 99]],\n",
    "         ['32761', ['samantha', 'smith'], 29, ['clothes', 'electronics', 'beauty'], [299, 679, 85]],\n",
    "         ['32984', ['david', 'white'], 41, ['books', 'home', 'sport'], [234, 329, 243]],\n",
    "         ['33001', ['emily', 'brown'], 26, ['beauty', 'home', 'food'], [213, 659, 79]],\n",
    "         ['33767', ['maria', 'garcia'], 33, ['clothes', 'food', 'beauty'], [499, 189, 63]],\n",
    "         ['33912', ['jose', 'martinez'], 22, ['sport', 'electronics', 'home'], [259, 549, 109]],\n",
    "         ['34009', ['lisa', 'wilson'], 35, ['home', 'books', 'clothes'], [329, 189, 329]],\n",
    "         ['34278', ['james', 'lee'], 28, ['beauty', 'clothes', 'electronics'], [189, 299, 579]]]\n",
    "\n",
    "\n",
    "for user in users:\n",
    "    if user[2] <  30:\n",
    "        print(user[1])\n",
    "        \n",
    "    \n",
    "    \n",
    "        "
   ]
  },
  {
   "cell_type": "markdown",
   "metadata": {
    "id": "23wCUaWZJm9Z"
   },
   "source": [
    "********Pista********\n",
    "\n",
    "Utiliza el bucle for para iterar sobre cada fila de la tabla. Utiliza `if` dentro de un bucle `for` para imprimir el nombre de usuario o usuaria. El campo `age` tiene el índice 2"
   ]
  },
  {
   "cell_type": "markdown",
   "metadata": {
    "id": "0ok38JMoJm9Z"
   },
   "source": [
    "# Paso 8\n",
    "\n",
    "Mostremos en pantalla los nombres de los usuarios menores de 30 años que acumulan un gasto total superior a 1000 dólares.\n"
   ]
  },
  {
   "cell_type": "code",
   "execution_count": 18,
   "metadata": {
    "colab": {
     "base_uri": "https://localhost:8080/"
    },
    "id": "4oAW1QDFJm9Z",
    "outputId": "c514027b-62cc-42bd-a8bb-d29975abd663",
    "trusted": true
   },
   "outputs": [
    {
     "name": "stdout",
     "output_type": "stream",
     "text": [
      "['samantha', 'smith']\n",
      "['james', 'lee']\n"
     ]
    }
   ],
   "source": [
    "users = [['32415', ['mike', 'reed'], 32, ['electronics', 'sport', 'books'], [894, 213, 173]],\n",
    "         ['31980', ['kate', 'morgan'], 24, ['clothes', 'books'], [439, 390]],\n",
    "         ['32156', ['john', 'doe'], 37, ['electronics', 'home', 'food'], [459, 120, 99]],\n",
    "         ['32761', ['samantha', 'smith'], 29, ['clothes', 'electronics', 'beauty'], [299, 679, 85]],\n",
    "         ['32984', ['david', 'white'], 41, ['books', 'home', 'sport'], [234, 329, 243]],\n",
    "         ['33001', ['emily', 'brown'], 26, ['beauty', 'home', 'food'], [213, 659, 79]],\n",
    "         ['33767', ['maria', 'garcia'], 33, ['clothes', 'food', 'beauty'], [499, 189, 63]],\n",
    "         ['33912', ['jose', 'martinez'], 22, ['sport', 'electronics', 'home'], [259, 549, 109]],\n",
    "         ['34009', ['lisa', 'wilson'], 35, ['home', 'books', 'clothes'], [329, 189, 329]],\n",
    "         ['34278', ['james', 'lee'], 28, ['beauty', 'clothes', 'electronics'], [189, 299, 579]]]\n",
    "\n",
    "for user in users:\n",
    "    if user[2] < 30 and sum(user[4]) >= 1000:\n",
    "        print(user[1])\n",
    "    "
   ]
  },
  {
   "cell_type": "markdown",
   "metadata": {
    "id": "5atbF9e_Jm9Z"
   },
   "source": [
    "********Pista********\n",
    "\n",
    "Utiliza el bucle for para iterar sobre cada fila de la tabla. Utiliza `if` dentro de un bucle `for` para imprimir el nombre de usuario o usuaria. El campo `age` tiene el índice 2. Utiliza la función `sum` para sumar los gastos y luego comprueba si es mayor de 1000 dólares."
   ]
  },
  {
   "cell_type": "markdown",
   "metadata": {
    "id": "H2jI5ljVJm9d"
   },
   "source": [
    "# Paso 9\n",
    "\n",
    "Ahora vamos a mostrar el nombre y la edad de todos los usuarios y todas las usuarias que han comprado ropa (\"clothes\"). Imprime el nombre y la edad en la misma declaración print.\n"
   ]
  },
  {
   "cell_type": "code",
   "execution_count": 1,
   "metadata": {
    "colab": {
     "base_uri": "https://localhost:8080/"
    },
    "id": "oSLk86udJm9d",
    "outputId": "5c323307-6591-4af9-c2d2-529a329367d6",
    "trusted": true
   },
   "outputs": [
    {
     "name": "stdout",
     "output_type": "stream",
     "text": [
      "['kate', 'morgan'] 24\n",
      "['samantha', 'smith'] 29\n",
      "['maria', 'garcia'] 33\n",
      "['lisa', 'wilson'] 35\n",
      "['james', 'lee'] 28\n"
     ]
    }
   ],
   "source": [
    "users = [['32415', ['mike', 'reed'], 32, ['electronics', 'sport', 'books'], [894, 213, 173]],\n",
    "         ['31980', ['kate', 'morgan'], 24, ['clothes', 'books'], [439, 390]],\n",
    "         ['32156', ['john', 'doe'], 37, ['electronics', 'home', 'food'], [459, 120, 99]],\n",
    "         ['32761', ['samantha', 'smith'], 29, ['clothes', 'electronics', 'beauty'], [299, 679, 85]],\n",
    "         ['32984', ['david', 'white'], 41, ['books', 'home', 'sport'], [234, 329, 243]],\n",
    "         ['33001', ['emily', 'brown'], 26, ['beauty', 'home', 'food'], [213, 659, 79]],\n",
    "         ['33767', ['maria', 'garcia'], 33, ['clothes', 'food', 'beauty'], [499, 189, 63]],\n",
    "         ['33912', ['jose', 'martinez'], 22, ['sport', 'electronics', 'home'], [259, 549, 109]],\n",
    "         ['34009', ['lisa', 'wilson'], 35, ['home', 'books', 'clothes'], [329, 189, 329]],\n",
    "         ['34278', ['james', 'lee'], 28, ['beauty', 'clothes', 'electronics'], [189, 299, 579]]]\n",
    "\n",
    "for user in users:\n",
    "    if 'clothes' in user[3]:\n",
    "        print(user[1],user[2])"
   ]
  },
  {
   "cell_type": "markdown",
   "metadata": {
    "id": "EasWyEPqJm9d"
   },
   "source": [
    "********Pista********\n",
    "\n",
    "Utiliza el bucle for para iterar sobre cada fila de la tabla. A continuación, utiliza otro bucle para comprobar si este usuario ha comprado ropa (\"clothes\") y, en caso afirmativo, muestra el nombre y la edad dentro de la misma declaración print, separándolos por comas: `print(firstname, age)`."
   ]
  },
  {
   "cell_type": "markdown",
   "metadata": {
    "id": "88QES-0NJzCJ"
   },
   "source": [
    "# Paso 10\n",
    "\n",
    "La dirección requiere de una función que proporcione información sobre los clientes, incluyendo sus nombres, edades y gasto total, filtrada por categorías específicas. Con base en fragmentos de código anteriores, crearemos una función llamada `get_client_by_cat` con las siguientes especificaciones:\n",
    "\n",
    "1. **Parámetros:**\n",
    "   - **users:** una lista con los datos de los usuarios.\n",
    "   - **id_index:** el índice donde está almacenado el ID del cliente en la lista de usuarios.\n",
    "   - **name_index:** el índice donde está almacenado el nombre del cliente en la lista de usuarios.\n",
    "   - **age_index:** el índice donde la edad del cliente está almacenada en la lista de usuarios.\n",
    "   - **category_index:** el índice donde las categorías de compras del cliente están listadas.\n",
    "   - **amounts_index:** el índice donde las cantidades gastadas en cada categoría están almacenadas.\n",
    "   - **filter_category:** un string que representa el nombre de la categoría para filtrar clientes.\n",
    "\n",
    "2. **Salida:**\n",
    "   - La función devuelve una lista de sublistas. Cada sublista contiene:\n",
    "     - El número ID del cliente.\n",
    "     - Una sublista con el nombre y apellido del cliente.\n",
    "     - La edad del cliente.\n",
    "     - Un entero que representa la cantidad total gastada por el cliente.\n",
    "\n",
    "Por ejemplo, si llamas a la función con los siguientes parámetros:\n",
    "\n",
    "\n",
    "```python\n",
    "get_client_by_cat([\n",
    "    ['32415', ['mike', 'reed'], 32, ['electronics', 'sport', 'books'], [894, 213, 173]]\n",
    "], 0, 1, 2, 3, 4, 'books')\n",
    "```\n",
    "\n",
    "La salida será:\n",
    "\n",
    "```python\n",
    "[['32415', ['mike', 'reed'], 32, 1280]]\n",
    "```\n",
    "\n",
    "Esta salida muestra que el cliente con el ID '32415', llamado Mike Reed, de 32 años, gastó un total de 1280 en la categoría 'books' y otras compras.\n",
    "\n",
    "Después de hacer tu función, llámala pasándole nuestra lista de usuarios, los índices adecuados y la categoría 'home' y muestra en pantalla la lista que resulta.\n",
    "\n"
   ]
  },
  {
   "cell_type": "code",
   "execution_count": 17,
   "metadata": {
    "colab": {
     "base_uri": "https://localhost:8080/"
    },
    "id": "-Iqf7AcXJzCP",
    "outputId": "ab62869b-a028-4096-9553-e0a5b5a8c92e",
    "trusted": true
   },
   "outputs": [
    {
     "name": "stdout",
     "output_type": "stream",
     "text": [
      "['32156', ['john', 'doe'], 37, 678]\n",
      "['32984', ['david', 'white'], 41, 806]\n",
      "['33001', ['emily', 'brown'], 26, 951]\n",
      "['33912', ['jose', 'martinez'], 22, 917]\n",
      "['34009', ['lisa', 'wilson'], 35, 847]\n"
     ]
    }
   ],
   "source": [
    "def get_client_by_cat(users, id_index, name_index, age_index, category_index, amounts_index, filter_category):\n",
    "    result = []\n",
    "    \n",
    "    for user in users:\n",
    "        if filter_category in user[category_index]: \n",
    "            total_spent = sum(user[amounts_index])\n",
    "            result.append([user[id_index],user[name_index],user[age_index],total_spent])\n",
    "\n",
    "    return result\n",
    "            \n",
    "            \n",
    "\n",
    "    \n",
    "    users = [['32415', ['mike', 'reed'], 32, ['electronics', 'sport', 'books'], [894, 213, 173]],\n",
    "    ['31980', ['kate', 'morgan'], 24, ['clothes', 'books'], [439, 390]],\n",
    "    ['32156', ['john', 'doe'], 37, ['electronics', 'home', 'food'], [459, 120, 99]],\n",
    "    ['32761', ['samantha', 'smith'], 29, ['clothes', 'electronics', 'beauty'], [299, 679, 85]],\n",
    "    ['32984', ['david', 'white'], 41, ['books', 'home', 'sport'], [234, 329, 243]],\n",
    "    ['33001', ['emily', 'brown'], 26, ['beauty', 'home', 'food'], [213, 659, 79]],\n",
    "    ['33767', ['maria', 'garcia'], 33, ['clothes', 'food', 'beauty'], [499, 189, 63]],\n",
    "    ['33912', ['jose', 'martinez'], 22, ['sport', 'electronics', 'home'], [259, 549, 109]],\n",
    "    ['34009', ['lisa', 'wilson'], 35, ['home', 'books', 'clothes'], [329, 189, 329]],\n",
    "    ['34278', ['james', 'lee'], 28, ['beauty', 'clothes', 'electronics'], [189, 299, 579]]\n",
    "]\n",
    "    \n",
    "result = get_client_by_cat(users, 0, 1, 2, 3, 4, 'home')\n",
    "\n",
    "for element in result:\n",
    "    print(element)\n"
   ]
  },
  {
   "cell_type": "markdown",
   "metadata": {},
   "source": [
    "\n",
    "<div class=\"alert alert-block alert-success\">\n",
    "\n",
    "<b>Comentario del revisor #3</b> <a class=\"tocSkip\"></a>\n",
    "\n",
    "Excelente.</div>"
   ]
  },
  {
   "cell_type": "markdown",
   "metadata": {
    "id": "wkWQL9Z9JzCP"
   },
   "source": [
    "********Pista********\n",
    "\n",
    "Utiliza un bucle for para iterar sobre cada usuario en la lista. Para cada usuario, verifica que la categoría deseada (\"filter_category\") esté en su lista de categorías de compras. Si se encuentra la categoría, calcula la cantidad total gastada sumando las cantidades en la lista correspondiente. Después, crea una sublista con el ID, nombre (como una lista de nombres y apellidos), edad y cantidad total gastada del usuario. Añade esta sublista a la lista final que resulta."
   ]
  }
 ],
 "metadata": {
  "ExecuteTimeLog": [
   {
    "duration": 9,
    "start_time": "2024-10-10T19:21:13.989Z"
   },
   {
    "duration": 6,
    "start_time": "2024-10-10T19:26:58.453Z"
   },
   {
    "duration": 6,
    "start_time": "2024-10-10T19:59:26.234Z"
   },
   {
    "duration": 4,
    "start_time": "2024-10-10T20:00:42.302Z"
   },
   {
    "duration": 155,
    "start_time": "2024-10-10T20:25:29.886Z"
   },
   {
    "duration": 5,
    "start_time": "2024-10-10T20:26:06.437Z"
   },
   {
    "duration": 12,
    "start_time": "2024-10-10T20:26:29.213Z"
   },
   {
    "duration": 15,
    "start_time": "2024-10-10T20:30:40.824Z"
   },
   {
    "duration": 11,
    "start_time": "2024-10-10T20:31:15.324Z"
   },
   {
    "duration": 5,
    "start_time": "2024-10-10T20:35:33.966Z"
   },
   {
    "duration": 11,
    "start_time": "2024-10-10T20:36:11.240Z"
   },
   {
    "duration": 15,
    "start_time": "2024-10-10T20:37:14.797Z"
   },
   {
    "duration": 2,
    "start_time": "2024-10-10T20:38:45.145Z"
   },
   {
    "duration": 12,
    "start_time": "2024-10-10T20:39:15.121Z"
   },
   {
    "duration": 3,
    "start_time": "2024-10-10T20:39:32.697Z"
   },
   {
    "duration": 32,
    "start_time": "2024-10-10T20:45:00.001Z"
   },
   {
    "duration": 12,
    "start_time": "2024-10-10T20:48:38.125Z"
   },
   {
    "duration": 190,
    "start_time": "2024-10-10T20:49:19.084Z"
   },
   {
    "duration": 4,
    "start_time": "2024-10-10T20:51:09.512Z"
   },
   {
    "duration": 182,
    "start_time": "2024-10-11T19:07:56.968Z"
   },
   {
    "duration": 21,
    "start_time": "2024-10-11T19:08:14.210Z"
   },
   {
    "duration": 3,
    "start_time": "2024-10-11T19:08:22.874Z"
   },
   {
    "duration": 25,
    "start_time": "2024-10-11T19:17:19.808Z"
   },
   {
    "duration": 13,
    "start_time": "2024-10-11T19:18:09.245Z"
   },
   {
    "duration": 6,
    "start_time": "2024-10-11T19:23:29.091Z"
   },
   {
    "duration": 3,
    "start_time": "2024-10-11T19:23:43.793Z"
   },
   {
    "duration": 4,
    "start_time": "2024-10-11T19:27:45.490Z"
   },
   {
    "duration": 3,
    "start_time": "2024-10-11T19:27:53.537Z"
   },
   {
    "duration": 3,
    "start_time": "2024-10-11T19:28:07.640Z"
   },
   {
    "duration": 5,
    "start_time": "2024-10-11T19:34:17.377Z"
   },
   {
    "duration": 7,
    "start_time": "2024-10-12T04:36:33.625Z"
   },
   {
    "duration": 7,
    "start_time": "2024-10-12T04:36:33.634Z"
   },
   {
    "duration": 0,
    "start_time": "2024-10-12T04:36:33.644Z"
   },
   {
    "duration": 0,
    "start_time": "2024-10-12T04:36:33.645Z"
   },
   {
    "duration": 0,
    "start_time": "2024-10-12T04:36:33.647Z"
   },
   {
    "duration": 0,
    "start_time": "2024-10-12T04:36:33.648Z"
   },
   {
    "duration": 1,
    "start_time": "2024-10-12T04:36:33.649Z"
   },
   {
    "duration": 0,
    "start_time": "2024-10-12T04:36:33.651Z"
   },
   {
    "duration": 0,
    "start_time": "2024-10-12T04:36:33.652Z"
   },
   {
    "duration": 0,
    "start_time": "2024-10-12T04:36:33.654Z"
   },
   {
    "duration": 0,
    "start_time": "2024-10-12T04:36:33.655Z"
   },
   {
    "duration": 0,
    "start_time": "2024-10-12T04:36:33.657Z"
   },
   {
    "duration": 0,
    "start_time": "2024-10-12T04:36:33.658Z"
   },
   {
    "duration": 3,
    "start_time": "2024-10-12T04:37:44.125Z"
   },
   {
    "duration": 10,
    "start_time": "2024-10-14T16:37:27.069Z"
   },
   {
    "duration": 4,
    "start_time": "2024-10-14T16:38:17.503Z"
   },
   {
    "duration": 170,
    "start_time": "2024-10-14T16:44:45.113Z"
   },
   {
    "duration": 4,
    "start_time": "2024-10-14T16:46:16.258Z"
   },
   {
    "duration": 5,
    "start_time": "2024-10-14T16:46:23.982Z"
   },
   {
    "duration": 4,
    "start_time": "2024-10-14T17:00:50.958Z"
   },
   {
    "duration": 5,
    "start_time": "2024-10-14T17:03:54.366Z"
   },
   {
    "duration": 3,
    "start_time": "2024-10-14T17:04:49.959Z"
   },
   {
    "duration": 4,
    "start_time": "2024-10-14T17:06:40.338Z"
   },
   {
    "duration": 5,
    "start_time": "2024-10-14T17:12:03.694Z"
   },
   {
    "duration": 4,
    "start_time": "2024-10-14T17:13:48.947Z"
   },
   {
    "duration": 6,
    "start_time": "2024-10-14T17:23:27.981Z"
   },
   {
    "duration": 11,
    "start_time": "2024-10-15T01:19:47.019Z"
   },
   {
    "duration": 8,
    "start_time": "2024-10-15T02:01:45.620Z"
   },
   {
    "duration": 7,
    "start_time": "2024-10-15T02:02:12.020Z"
   },
   {
    "duration": 9,
    "start_time": "2024-10-15T16:55:23.207Z"
   },
   {
    "duration": 7,
    "start_time": "2024-10-15T16:58:45.839Z"
   },
   {
    "duration": 8,
    "start_time": "2024-10-15T17:00:02.417Z"
   },
   {
    "duration": 9,
    "start_time": "2024-10-15T17:01:18.206Z"
   },
   {
    "duration": 171,
    "start_time": "2024-10-15T17:02:28.864Z"
   },
   {
    "duration": 175,
    "start_time": "2024-10-15T17:12:50.838Z"
   },
   {
    "duration": 28,
    "start_time": "2024-10-15T17:14:10.083Z"
   },
   {
    "duration": 31,
    "start_time": "2024-10-15T17:19:14.058Z"
   },
   {
    "duration": 51,
    "start_time": "2024-10-15T17:21:44.156Z"
   },
   {
    "duration": 177,
    "start_time": "2024-10-15T17:22:05.336Z"
   },
   {
    "duration": 11,
    "start_time": "2024-10-15T17:28:55.985Z"
   },
   {
    "duration": 8,
    "start_time": "2024-10-15T17:45:38.950Z"
   },
   {
    "duration": 6,
    "start_time": "2024-10-15T17:49:19.332Z"
   },
   {
    "duration": 7,
    "start_time": "2024-10-15T17:51:02.624Z"
   },
   {
    "duration": 7,
    "start_time": "2024-10-15T21:16:21.191Z"
   },
   {
    "duration": 3,
    "start_time": "2024-10-15T21:16:30.838Z"
   },
   {
    "duration": 6,
    "start_time": "2024-10-15T21:16:37.714Z"
   },
   {
    "duration": 6,
    "start_time": "2024-10-15T21:18:10.216Z"
   },
   {
    "duration": 200,
    "start_time": "2024-10-15T21:18:37.846Z"
   },
   {
    "duration": 5,
    "start_time": "2024-10-15T21:18:42.455Z"
   },
   {
    "duration": 6,
    "start_time": "2024-10-15T21:26:30.592Z"
   },
   {
    "duration": 5,
    "start_time": "2024-10-15T21:26:41.153Z"
   },
   {
    "duration": 11,
    "start_time": "2024-10-15T21:26:57.533Z"
   },
   {
    "duration": 3,
    "start_time": "2024-10-15T21:35:04.858Z"
   },
   {
    "duration": 3,
    "start_time": "2024-10-15T21:35:11.707Z"
   },
   {
    "duration": 19,
    "start_time": "2024-10-15T22:23:25.893Z"
   },
   {
    "duration": 11,
    "start_time": "2024-10-15T22:25:11.364Z"
   },
   {
    "duration": 7,
    "start_time": "2024-10-15T22:25:22.982Z"
   },
   {
    "duration": 13,
    "start_time": "2024-10-15T22:25:35.725Z"
   },
   {
    "duration": 8,
    "start_time": "2024-10-15T22:26:05.824Z"
   },
   {
    "duration": 9,
    "start_time": "2024-10-15T22:28:05.598Z"
   },
   {
    "duration": 6,
    "start_time": "2024-10-15T22:31:10.359Z"
   },
   {
    "duration": 7,
    "start_time": "2024-10-15T22:31:51.821Z"
   },
   {
    "duration": 25,
    "start_time": "2024-10-15T22:39:04.512Z"
   },
   {
    "duration": 10,
    "start_time": "2024-10-15T22:43:16.975Z"
   },
   {
    "duration": 6,
    "start_time": "2024-10-15T22:58:28.866Z"
   },
   {
    "duration": 7,
    "start_time": "2024-10-15T23:00:23.678Z"
   },
   {
    "duration": 13,
    "start_time": "2024-10-15T23:24:00.485Z"
   },
   {
    "duration": 3,
    "start_time": "2024-10-15T23:33:45.262Z"
   },
   {
    "duration": 4,
    "start_time": "2024-10-15T23:34:00.217Z"
   },
   {
    "duration": 4,
    "start_time": "2024-10-15T23:34:05.568Z"
   },
   {
    "duration": 7,
    "start_time": "2024-10-15T23:34:31.545Z"
   },
   {
    "duration": 3,
    "start_time": "2024-10-15T23:34:39.508Z"
   },
   {
    "duration": 6,
    "start_time": "2024-10-15T23:43:16.711Z"
   },
   {
    "duration": 5,
    "start_time": "2024-10-15T23:44:24.814Z"
   },
   {
    "duration": 4,
    "start_time": "2024-10-15T23:45:08.001Z"
   },
   {
    "duration": 4,
    "start_time": "2024-10-15T23:45:43.230Z"
   },
   {
    "duration": 6,
    "start_time": "2024-10-15T23:46:04.305Z"
   },
   {
    "duration": 3,
    "start_time": "2024-10-15T23:46:15.188Z"
   },
   {
    "duration": 4,
    "start_time": "2024-10-15T23:46:41.181Z"
   },
   {
    "duration": 6,
    "start_time": "2024-10-15T23:47:05.788Z"
   },
   {
    "duration": 4,
    "start_time": "2024-10-15T23:47:14.646Z"
   },
   {
    "duration": 4,
    "start_time": "2024-10-15T23:47:59.990Z"
   },
   {
    "duration": 5,
    "start_time": "2024-10-15T23:50:35.353Z"
   },
   {
    "duration": 6,
    "start_time": "2024-10-15T23:55:38.310Z"
   },
   {
    "duration": 5,
    "start_time": "2024-10-15T23:59:21.490Z"
   },
   {
    "duration": 4,
    "start_time": "2024-10-15T23:59:43.493Z"
   },
   {
    "duration": 4,
    "start_time": "2024-10-16T00:00:13.604Z"
   },
   {
    "duration": 5,
    "start_time": "2024-10-16T00:03:09.044Z"
   },
   {
    "duration": 5,
    "start_time": "2024-10-16T00:04:02.348Z"
   },
   {
    "duration": 5,
    "start_time": "2024-10-16T00:04:57.003Z"
   },
   {
    "duration": 13,
    "start_time": "2024-10-16T00:12:48.065Z"
   },
   {
    "duration": 13,
    "start_time": "2024-10-16T00:15:17.023Z"
   },
   {
    "duration": 3,
    "start_time": "2024-10-16T00:15:44.389Z"
   },
   {
    "duration": 6,
    "start_time": "2024-10-16T00:16:14.649Z"
   },
   {
    "duration": 9,
    "start_time": "2024-10-16T00:19:55.174Z"
   },
   {
    "duration": 5,
    "start_time": "2024-10-16T00:21:32.796Z"
   },
   {
    "duration": 8,
    "start_time": "2024-10-16T00:22:26.294Z"
   },
   {
    "duration": 7,
    "start_time": "2024-10-16T00:24:20.770Z"
   },
   {
    "duration": 9,
    "start_time": "2024-10-16T00:26:50.228Z"
   },
   {
    "duration": 9,
    "start_time": "2024-10-16T00:27:19.678Z"
   },
   {
    "duration": 206,
    "start_time": "2024-10-16T00:27:28.641Z"
   },
   {
    "duration": 6,
    "start_time": "2024-10-16T00:33:36.806Z"
   },
   {
    "duration": 18,
    "start_time": "2024-10-16T00:33:52.785Z"
   },
   {
    "duration": 23,
    "start_time": "2024-10-16T00:34:23.348Z"
   },
   {
    "duration": 13,
    "start_time": "2024-10-16T00:38:43.649Z"
   },
   {
    "duration": 6,
    "start_time": "2024-10-16T00:38:59.793Z"
   },
   {
    "duration": 6,
    "start_time": "2024-10-16T00:39:13.590Z"
   },
   {
    "duration": 190,
    "start_time": "2024-10-16T00:39:19.576Z"
   },
   {
    "duration": 20,
    "start_time": "2024-10-16T00:40:30.649Z"
   },
   {
    "duration": 9,
    "start_time": "2024-10-16T00:42:47.006Z"
   },
   {
    "duration": 43,
    "start_time": "2024-10-16T00:43:00.642Z"
   },
   {
    "duration": 37,
    "start_time": "2024-10-16T00:43:16.668Z"
   },
   {
    "duration": 27,
    "start_time": "2024-10-16T00:44:29.269Z"
   },
   {
    "duration": 41,
    "start_time": "2024-10-16T00:47:21.459Z"
   },
   {
    "duration": 5,
    "start_time": "2024-10-16T00:49:36.978Z"
   },
   {
    "duration": 12,
    "start_time": "2024-10-16T00:50:25.726Z"
   },
   {
    "duration": 8,
    "start_time": "2024-10-16T00:50:59.956Z"
   },
   {
    "duration": 19,
    "start_time": "2024-10-16T00:54:01.948Z"
   },
   {
    "duration": 19,
    "start_time": "2024-10-16T00:54:49.480Z"
   },
   {
    "duration": 46,
    "start_time": "2024-10-16T00:56:40.135Z"
   },
   {
    "duration": 35,
    "start_time": "2024-10-16T00:57:06.815Z"
   },
   {
    "duration": 9,
    "start_time": "2024-10-16T01:05:32.349Z"
   },
   {
    "duration": 7,
    "start_time": "2024-10-16T01:11:14.404Z"
   },
   {
    "duration": 8,
    "start_time": "2024-10-16T01:12:30.883Z"
   },
   {
    "duration": 37,
    "start_time": "2024-10-16T01:12:39.422Z"
   },
   {
    "duration": 9,
    "start_time": "2024-10-16T01:15:57.522Z"
   },
   {
    "duration": 7,
    "start_time": "2024-10-16T01:20:14.461Z"
   },
   {
    "duration": 5,
    "start_time": "2024-10-16T01:26:08.097Z"
   },
   {
    "duration": 7,
    "start_time": "2024-10-16T01:26:27.871Z"
   },
   {
    "duration": 7,
    "start_time": "2024-10-16T01:26:42.996Z"
   },
   {
    "duration": 9,
    "start_time": "2024-10-16T01:27:07.793Z"
   },
   {
    "duration": 7,
    "start_time": "2024-10-16T01:30:51.015Z"
   },
   {
    "duration": 6,
    "start_time": "2024-10-16T01:31:23.680Z"
   },
   {
    "duration": 5,
    "start_time": "2024-10-16T01:31:32.806Z"
   },
   {
    "duration": 10,
    "start_time": "2024-10-16T01:32:41.231Z"
   },
   {
    "duration": 5,
    "start_time": "2024-10-16T01:33:09.050Z"
   },
   {
    "duration": 7,
    "start_time": "2024-10-16T01:33:54.414Z"
   },
   {
    "duration": 5,
    "start_time": "2024-10-16T01:35:58.679Z"
   },
   {
    "duration": 25,
    "start_time": "2024-10-16T01:38:50.352Z"
   },
   {
    "duration": 8,
    "start_time": "2024-10-16T01:39:13.569Z"
   },
   {
    "duration": 6,
    "start_time": "2024-10-16T01:39:25.647Z"
   },
   {
    "duration": 12,
    "start_time": "2024-10-16T01:39:48.130Z"
   },
   {
    "duration": 8,
    "start_time": "2024-10-16T01:39:55.256Z"
   },
   {
    "duration": 10,
    "start_time": "2024-10-16T01:40:16.527Z"
   },
   {
    "duration": 13,
    "start_time": "2024-10-16T01:43:05.135Z"
   },
   {
    "duration": 9,
    "start_time": "2024-10-16T01:43:16.934Z"
   },
   {
    "duration": 6,
    "start_time": "2024-10-16T01:43:44.629Z"
   },
   {
    "duration": 5,
    "start_time": "2024-10-16T01:44:02.849Z"
   },
   {
    "duration": 22,
    "start_time": "2024-10-16T01:46:34.476Z"
   },
   {
    "duration": 35,
    "start_time": "2024-10-16T01:47:01.123Z"
   },
   {
    "duration": 27,
    "start_time": "2024-10-16T01:47:24.635Z"
   },
   {
    "duration": 22,
    "start_time": "2024-10-16T01:47:48.911Z"
   },
   {
    "duration": 6,
    "start_time": "2024-10-16T01:48:00.605Z"
   },
   {
    "duration": 20,
    "start_time": "2024-10-16T01:48:15.352Z"
   },
   {
    "duration": 30,
    "start_time": "2024-10-16T01:48:37.446Z"
   },
   {
    "duration": 19,
    "start_time": "2024-10-16T01:49:06.349Z"
   },
   {
    "duration": 29,
    "start_time": "2024-10-16T01:49:48.075Z"
   },
   {
    "duration": 20,
    "start_time": "2024-10-16T01:50:15.509Z"
   },
   {
    "duration": 19,
    "start_time": "2024-10-16T01:50:41.971Z"
   },
   {
    "duration": 8,
    "start_time": "2024-10-16T01:50:59.562Z"
   },
   {
    "duration": 5,
    "start_time": "2024-10-16T01:51:34.483Z"
   },
   {
    "duration": 28,
    "start_time": "2024-10-16T01:51:40.830Z"
   },
   {
    "duration": 8,
    "start_time": "2024-10-16T01:56:07.077Z"
   },
   {
    "duration": 4,
    "start_time": "2024-10-16T01:56:13.582Z"
   },
   {
    "duration": 7,
    "start_time": "2024-10-16T01:56:29.199Z"
   },
   {
    "duration": 9,
    "start_time": "2024-10-16T14:13:28.280Z"
   },
   {
    "duration": 10,
    "start_time": "2024-10-16T14:22:47.591Z"
   },
   {
    "duration": 6,
    "start_time": "2024-10-16T14:24:00.968Z"
   },
   {
    "duration": 169,
    "start_time": "2024-10-16T14:24:12.572Z"
   },
   {
    "duration": 5,
    "start_time": "2024-10-16T14:24:36.194Z"
   },
   {
    "duration": 6,
    "start_time": "2024-10-16T14:25:59.830Z"
   },
   {
    "duration": 6,
    "start_time": "2024-10-16T14:27:09.429Z"
   },
   {
    "duration": 6,
    "start_time": "2024-10-16T14:29:15.489Z"
   },
   {
    "duration": 5,
    "start_time": "2024-10-16T14:45:55.090Z"
   },
   {
    "duration": 5,
    "start_time": "2024-10-16T14:46:22.362Z"
   },
   {
    "duration": 5,
    "start_time": "2024-10-16T14:46:26.239Z"
   },
   {
    "duration": 5,
    "start_time": "2024-10-16T14:46:56.131Z"
   },
   {
    "duration": 5,
    "start_time": "2024-10-16T14:47:46.826Z"
   },
   {
    "duration": 9,
    "start_time": "2024-10-16T14:48:09.657Z"
   },
   {
    "duration": 7,
    "start_time": "2024-10-16T14:50:58.152Z"
   },
   {
    "duration": 6,
    "start_time": "2024-10-16T14:52:18.219Z"
   },
   {
    "duration": 6,
    "start_time": "2024-10-16T14:52:28.646Z"
   },
   {
    "duration": 9,
    "start_time": "2024-10-16T14:52:55.183Z"
   },
   {
    "duration": 6,
    "start_time": "2024-10-16T14:53:04.583Z"
   },
   {
    "duration": 7,
    "start_time": "2024-10-16T14:56:00.333Z"
   },
   {
    "duration": 5,
    "start_time": "2024-10-16T15:00:35.466Z"
   },
   {
    "duration": 5,
    "start_time": "2024-10-16T15:01:10.098Z"
   },
   {
    "duration": 11,
    "start_time": "2024-10-17T16:57:50.344Z"
   },
   {
    "duration": 7,
    "start_time": "2024-10-17T17:08:17.669Z"
   },
   {
    "duration": 6,
    "start_time": "2024-10-17T17:53:18.136Z"
   },
   {
    "duration": 8,
    "start_time": "2024-10-17T17:53:50.441Z"
   },
   {
    "duration": 6,
    "start_time": "2024-10-17T17:54:46.882Z"
   },
   {
    "duration": 8,
    "start_time": "2024-10-17T17:57:17.127Z"
   },
   {
    "duration": 6,
    "start_time": "2024-10-17T17:58:42.676Z"
   },
   {
    "duration": 5,
    "start_time": "2024-10-17T18:04:51.642Z"
   },
   {
    "duration": 9,
    "start_time": "2024-10-17T18:05:05.322Z"
   },
   {
    "duration": 6,
    "start_time": "2024-10-17T18:09:40.944Z"
   },
   {
    "duration": 8,
    "start_time": "2024-10-17T18:21:13.593Z"
   },
   {
    "duration": 172,
    "start_time": "2024-10-17T18:22:22.926Z"
   },
   {
    "duration": 23,
    "start_time": "2024-10-17T18:23:11.691Z"
   },
   {
    "duration": 24,
    "start_time": "2024-10-17T18:23:37.539Z"
   },
   {
    "duration": 7,
    "start_time": "2024-10-17T18:23:53.652Z"
   },
   {
    "duration": 21,
    "start_time": "2024-10-17T18:24:18.686Z"
   },
   {
    "duration": 46,
    "start_time": "2024-10-17T18:25:00.847Z"
   },
   {
    "duration": 22,
    "start_time": "2024-10-17T18:28:03.620Z"
   },
   {
    "duration": 32,
    "start_time": "2024-10-17T18:28:28.471Z"
   },
   {
    "duration": 21,
    "start_time": "2024-10-17T18:35:39.407Z"
   },
   {
    "duration": 21,
    "start_time": "2024-10-17T20:05:10.763Z"
   },
   {
    "duration": 170,
    "start_time": "2024-10-18T01:55:19.352Z"
   },
   {
    "duration": 168,
    "start_time": "2024-10-18T14:46:44.815Z"
   },
   {
    "duration": 22,
    "start_time": "2024-10-18T14:47:48.369Z"
   },
   {
    "duration": 23,
    "start_time": "2024-10-18T14:48:32.263Z"
   },
   {
    "duration": 31,
    "start_time": "2024-10-18T14:49:10.477Z"
   },
   {
    "duration": 45,
    "start_time": "2024-10-18T14:49:42.239Z"
   },
   {
    "duration": 21,
    "start_time": "2024-10-18T14:50:06.594Z"
   },
   {
    "duration": 31,
    "start_time": "2024-10-18T14:50:38.733Z"
   },
   {
    "duration": 3,
    "start_time": "2024-10-18T14:59:42.163Z"
   },
   {
    "duration": 4,
    "start_time": "2024-10-18T15:00:23.150Z"
   },
   {
    "duration": 4,
    "start_time": "2024-10-18T15:00:53.394Z"
   },
   {
    "duration": 8,
    "start_time": "2024-10-18T15:09:01.685Z"
   },
   {
    "duration": 4,
    "start_time": "2024-10-18T15:09:38.141Z"
   },
   {
    "duration": 3,
    "start_time": "2024-10-18T15:11:16.095Z"
   },
   {
    "duration": 5,
    "start_time": "2024-10-18T15:11:30.463Z"
   },
   {
    "duration": 8,
    "start_time": "2024-10-18T15:13:18.224Z"
   },
   {
    "duration": 6,
    "start_time": "2024-10-18T15:13:33.560Z"
   },
   {
    "duration": 8,
    "start_time": "2024-10-18T15:14:27.654Z"
   },
   {
    "duration": 6,
    "start_time": "2024-10-18T15:18:52.693Z"
   },
   {
    "duration": 4,
    "start_time": "2024-10-18T15:21:58.044Z"
   },
   {
    "duration": 6,
    "start_time": "2024-10-18T15:23:02.967Z"
   },
   {
    "duration": 5,
    "start_time": "2024-10-18T15:23:24.661Z"
   },
   {
    "duration": 30,
    "start_time": "2024-10-18T15:46:53.375Z"
   },
   {
    "duration": 30,
    "start_time": "2024-10-18T16:10:07.535Z"
   },
   {
    "duration": 6,
    "start_time": "2024-10-18T16:11:52.532Z"
   },
   {
    "duration": 6,
    "start_time": "2024-10-18T16:17:23.133Z"
   },
   {
    "duration": 6,
    "start_time": "2024-10-18T16:18:48.088Z"
   },
   {
    "duration": 5,
    "start_time": "2024-10-18T16:38:33.105Z"
   },
   {
    "duration": 9,
    "start_time": "2024-10-18T16:51:41.982Z"
   },
   {
    "duration": 4,
    "start_time": "2024-10-18T16:51:43.849Z"
   },
   {
    "duration": 4,
    "start_time": "2024-10-18T16:51:45.813Z"
   },
   {
    "duration": 7,
    "start_time": "2024-10-18T16:51:52.729Z"
   },
   {
    "duration": 8,
    "start_time": "2024-10-19T00:12:56.865Z"
   },
   {
    "duration": 6,
    "start_time": "2024-10-19T00:14:23.075Z"
   },
   {
    "duration": 7,
    "start_time": "2024-10-20T21:21:43.642Z"
   },
   {
    "duration": 19,
    "start_time": "2024-10-20T21:35:38.742Z"
   },
   {
    "duration": 8,
    "start_time": "2024-10-21T17:39:05.174Z"
   },
   {
    "duration": 5,
    "start_time": "2024-10-21T17:41:52.331Z"
   },
   {
    "duration": 8,
    "start_time": "2024-10-21T17:42:44.065Z"
   },
   {
    "duration": 6,
    "start_time": "2024-10-21T17:44:18.117Z"
   }
  ],
  "colab": {
   "provenance": []
  },
  "kernelspec": {
   "display_name": "Python 3 (ipykernel)",
   "language": "python",
   "name": "python3"
  },
  "language_info": {
   "codemirror_mode": {
    "name": "ipython",
    "version": 3
   },
   "file_extension": ".py",
   "mimetype": "text/x-python",
   "name": "python",
   "nbconvert_exporter": "python",
   "pygments_lexer": "ipython3",
   "version": "3.9.19"
  },
  "toc": {
   "base_numbering": 1,
   "nav_menu": {},
   "number_sections": true,
   "sideBar": true,
   "skip_h1_title": true,
   "title_cell": "Table of Contents",
   "title_sidebar": "Contents",
   "toc_cell": false,
   "toc_position": {},
   "toc_section_display": true,
   "toc_window_display": false
  }
 },
 "nbformat": 4,
 "nbformat_minor": 1
}
